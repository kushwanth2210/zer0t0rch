{
 "cells": [
  {
   "cell_type": "code",
   "execution_count": null,
   "metadata": {
    "id": "D3sMQTNY1q9a"
   },
   "outputs": [],
   "source": [
    "!pip install transformers git+https://github.com/zer0sh0t/zer0t0rch\n",
    "!wget https://raw.githubusercontent.com/karpathy/char-rnn/master/data/tinyshakespeare/input.txt"
   ]
  },
  {
   "cell_type": "code",
   "execution_count": 2,
   "metadata": {
    "id": "2iRxSmR4yHZ7"
   },
   "outputs": [],
   "source": [
    "import re\n",
    "import torch\n",
    "import numpy as np\n",
    "import transformers\n",
    "from torch.utils.data import Dataset\n",
    "from zer0t0rch import Zer0t0rchWrapper\n",
    "from zer0t0rch.utils import clear_cache\n",
    "from transformers import AutoTokenizer, AutoModelForCausalLM, DataCollatorWithPadding\n",
    "\n",
    "clear_cache()"
   ]
  },
  {
   "cell_type": "code",
   "execution_count": null,
   "metadata": {
    "colab": {
     "base_uri": "https://localhost:8080/"
    },
    "id": "3eMwPGv5yHXi",
    "outputId": "c4081dbf-0fc1-49a8-c9ad-d28ebafde4d5"
   },
   "outputs": [],
   "source": [
    "model_name = 'gpt2'\n",
    "num_epochs = 1\n",
    "batch_size = 16\n",
    "max_seq_len = 32"
   ]
  },
  {
   "cell_type": "code",
   "execution_count": 4,
   "metadata": {
    "id": "9LZCJePRyHVN"
   },
   "outputs": [],
   "source": [
    "tokenizer = AutoTokenizer.from_pretrained(model_name)\n",
    "tokenizer.add_special_tokens({'pad_token': '[PAD]'})\n",
    "model = AutoModelForCausalLM.from_pretrained(model_name)\n",
    "collate_fn = DataCollatorWithPadding(tokenizer=tokenizer)"
   ]
  },
  {
   "cell_type": "code",
   "execution_count": 5,
   "metadata": {
    "id": "5RXyOVPI00Cq"
   },
   "outputs": [],
   "source": [
    "class GetDataset(Dataset):\n",
    "    def __init__(self, file_path, tokenizer, max_seq_len):\n",
    "        self.text = open(file_path, 'r').read()\n",
    "        self.words = re.split(' ', self.text)\n",
    "        self.tokenizer = tokenizer\n",
    "        self.max_seq_len = max_seq_len\n",
    "\n",
    "    def __len__(self):\n",
    "        return 25000 #len(self.words) - self.max_seq_len\n",
    "\n",
    "    def __getitem__(self, index):\n",
    "        content = self.words[index: index + self.max_seq_len]\n",
    "        tok_con = self.tokenizer(' '.join(content), max_length=self.max_seq_len, truncation=True)\n",
    "        return tok_con"
   ]
  },
  {
   "cell_type": "code",
   "execution_count": 8,
   "metadata": {
    "colab": {
     "base_uri": "https://localhost:8080/"
    },
    "id": "nlXbkArIyHTF",
    "outputId": "b9050a1a-e8ee-4ab4-d3e0-422dcb9334a1"
   },
   "outputs": [
    {
     "name": "stdout",
     "output_type": "stream",
     "text": [
      "25000 First Citizen:\n",
      "Before we proceed any further, hear me speak.\n",
      "\n",
      "All:\n",
      "Speak, speak.\n",
      "\n",
      "First Citizen:\n",
      "You are all resolved rather to die than to famish?\n",
      "\n",
      "All:\n",
      "Resolved. resolved.\n",
      "\n",
      "First Citizen:\n",
      "First, you know Caius Marcius is chief enemy to the people.\n",
      "\n",
      "All:\n",
      "We know't, we know't.\n",
      "\n",
      "First Citizen:\n",
      "Let us kill him, and we'll have corn at our own price.\n",
      "Is't a verdict?\n",
      "\n",
      "All:\n",
      "No more talking on't; let it be done: away, away!\n",
      "\n",
      "Second Citizen:\n",
      "One word, good citizens.\n",
      "\n",
      "First Citizen:\n",
      "We are accounted poor citizens, the patricians good.\n",
      "What authority surfeits on would relieve us: if they\n",
      "would yield us but the superfluity, while it were\n",
      "wholesome, we might guess they relieved us humanely;\n",
      "but they think we are too dear: the leanness that\n",
      "afflicts us, the object of our misery, is as an\n",
      "inventory to particularise their abundance; our\n",
      "sufferance is a gain to them Let us revenge this with\n",
      "our pikes, ere we become rakes: for the gods know I\n",
      "speak this in hunger for bread, not in thirst for revenge.\n",
      "\n",
      "\n"
     ]
    }
   ],
   "source": [
    "data = GetDataset('input.txt', tokenizer, max_seq_len)\n",
    "print(len(data), data.text[:1000])"
   ]
  },
  {
   "cell_type": "code",
   "execution_count": 10,
   "metadata": {
    "id": "XFxm310IyHQq"
   },
   "outputs": [],
   "source": [
    "class ZTGPT2(Zer0t0rchWrapper):\n",
    "    def __init__(self, model):\n",
    "        super().__init__(model)\n",
    "\n",
    "    def batch_mounting_logic(self, batch):\n",
    "        batch = {k: v.to(self.device) for k, v in batch.items()}\n",
    "        return batch\n",
    "\n",
    "    def loop_forward_logic(self, batch):\n",
    "        preds = self.model(**batch, labels=batch['input_ids']) # labels are shifted right inside the model\n",
    "        outputs = (preds.loss,)\n",
    "        return outputs\n",
    "\n",
    "    def metric_calc_logic(self, metric_inps):\n",
    "        _, loss = metric_inps\n",
    "        metric_vals = {}\n",
    "        for metric_name, metric_fn in self.metric_fns.items():\n",
    "            metric_vals[metric_name] = metric_fn(loss.item())\n",
    "        return metric_vals"
   ]
  },
  {
   "cell_type": "code",
   "execution_count": 12,
   "metadata": {
    "id": "oJx9dpRs3H_r"
   },
   "outputs": [],
   "source": [
    "loss_fn = lambda loss: loss\n",
    "get_perplexity = lambda loss: np.exp(loss)\n",
    "metric_fns = {'ppl': get_perplexity}"
   ]
  },
  {
   "cell_type": "code",
   "execution_count": 13,
   "metadata": {
    "id": "bFowjdLJ3H4o"
   },
   "outputs": [],
   "source": [
    "zt_model = ZTGPT2(model)\n",
    "zt_model.prepare_data(data, batch_size=batch_size, collate_fn=collate_fn, val_pct=0.2)\n",
    "zt_model.compile(loss_fn, metric_fns)"
   ]
  },
  {
   "cell_type": "code",
   "execution_count": 14,
   "metadata": {
    "colab": {
     "base_uri": "https://localhost:8080/"
    },
    "id": "2-hUVnkU4HQn",
    "outputId": "2d0fcddd-3ea0-423b-d49f-f8b02665f26c"
   },
   "outputs": [
    {
     "name": "stderr",
     "output_type": "stream",
     "text": [
      "train: epoch=0, loss=1.7622, ppl=10.8289: 100%|██████████| 1250/1250 [06:51<00:00,  3.04it/s]\n",
      " val : epoch=0, loss=0.5538, ppl=1.7438: 100%|██████████| 313/313 [00:29<00:00, 10.44it/s]\n"
     ]
    }
   ],
   "source": [
    "zt_model.fit(num_epochs)"
   ]
  },
  {
   "cell_type": "code",
   "execution_count": 15,
   "metadata": {
    "id": "B8PAZJMP4TZ3"
   },
   "outputs": [],
   "source": [
    "def generate(text, max_length):\n",
    "    inputs = tokenizer(text, return_tensors='pt')\n",
    "    inputs = inputs['input_ids'].to(device)\n",
    "    outputs = zt_model.model.generate(inputs, max_length=max_length)\n",
    "    return tokenizer.decode(outputs[0], skip_special_tokens=True)"
   ]
  },
  {
   "cell_type": "code",
   "execution_count": 18,
   "metadata": {
    "colab": {
     "base_uri": "https://localhost:8080/"
    },
    "id": "MMYv8JYF4TWC",
    "outputId": "eaa78341-2e3f-459d-d0f5-bd0216efc409"
   },
   "outputs": [
    {
     "name": "stderr",
     "output_type": "stream",
     "text": [
      "Setting `pad_token_id` to `eos_token_id`:50256 for open-end generation.\n"
     ]
    },
    {
     "name": "stdout",
     "output_type": "stream",
     "text": [
      "hello there's difference; but the fall of either\n",
      "Makes the survivor heir of all.\n",
      "\n",
      "AUFIDIUS:\n",
      "I know it;\n",
      "And my pretext to strike at him admits\n",
      "A good construction. I raised him, and raised him:\n",
      "The people cry him, and the nobility dined.\n",
      "\n",
      "\n",
      "Citizens:\n",
      "Noble Marcius, the great sword of the people!\n",
      "\n",
      "\n",
      "SICINIUS:\n",
      "The people cry him,\n"
     ]
    }
   ],
   "source": [
    "output = generate('''hello there''', 100)\n",
    "print(output)"
   ]
  }
 ],
 "metadata": {
  "accelerator": "GPU",
  "colab": {
   "collapsed_sections": [],
   "name": "default.ipynb",
   "provenance": []
  },
  "kernelspec": {
   "display_name": "Python 3",
   "language": "python",
   "name": "python3"
  },
  "language_info": {
   "codemirror_mode": {
    "name": "ipython",
    "version": 3
   },
   "file_extension": ".py",
   "mimetype": "text/x-python",
   "name": "python",
   "nbconvert_exporter": "python",
   "pygments_lexer": "ipython3",
   "version": "3.7.7"
  }
 },
 "nbformat": 4,
 "nbformat_minor": 1
}
